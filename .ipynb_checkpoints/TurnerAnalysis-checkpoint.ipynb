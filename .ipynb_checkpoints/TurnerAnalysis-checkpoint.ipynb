{
 "cells": [
  {
   "cell_type": "code",
   "execution_count": 9,
   "metadata": {
    "collapsed": false
   },
   "outputs": [
    {
     "data": {
      "text/plain": [
       "undefined"
      ]
     },
     "execution_count": 9,
     "metadata": {},
     "output_type": "execute_result"
    }
   ],
   "source": [
    "var d3 = require('d3');\n",
    "var pmongo = require('promised-mongo');"
   ]
  },
  {
   "cell_type": "code",
   "execution_count": 10,
   "metadata": {
    "collapsed": false
   },
   "outputs": [
    {
     "data": {
      "text/plain": [
       "undefined"
      ]
     },
     "execution_count": 10,
     "metadata": {},
     "output_type": "execute_result"
    }
   ],
   "source": [
    "var dbUrl = 'mongodb://localhost/tateGalleryMeta';\n",
    "var db = pmongo(dbUrl);\n",
    "var artColl = db.collection('artworks');"
   ]
  },
  {
   "cell_type": "code",
   "execution_count": 11,
   "metadata": {
    "collapsed": false
   },
   "outputs": [
    {
     "data": {
      "text/plain": [
       "Promise {\n",
       "  _d: \n",
       "   { p: [Circular],\n",
       "     c: [],\n",
       "     a: undefined,\n",
       "     s: 0,\n",
       "     d: false,\n",
       "     v: undefined,\n",
       "     h: false,\n",
       "     n: false } }"
      ]
     },
     "execution_count": 11,
     "metadata": {},
     "output_type": "execute_result"
    },
    {
     "name": "stdout",
     "output_type": "stream",
     "text": [
      "done\n"
     ]
    }
   ],
   "source": [
    "var turner;\n",
    "artColl.find({all_artists: \"Joseph Mallord William Turner\"}).toArray()\n",
    "    .then(docs => { \n",
    "        turner = docs;\n",
    "    })\n",
    "    .then(() => {\n",
    "        console.log('done');\n",
    "        turner.sort((a, b) => {\n",
    "            return a.dateRange.startYear - b.dateRange.startYear\n",
    "        })});"
   ]
  },
  {
   "cell_type": "code",
   "execution_count": 12,
   "metadata": {
    "collapsed": false
   },
   "outputs": [
    {
     "data": {
      "text/plain": [
       "{ _id: 56e71f7e759a662e391cb1a5,\n",
       "  acno: 'A01009',\n",
       "  acquisitionYear: 1925,\n",
       "  all_artists: 'Joseph Mallord William Turner',\n",
       "  catalogueGroup: \n",
       "   { accessionRanges: 'A00911-A01015; A01112-A01159; A01188',\n",
       "     completeStatus: 'COMPLETE',\n",
       "     groupType: null,\n",
       "     id: 65249,\n",
       "     shortTitle: 'Etchings and Engravings for the \\'Liber Studiorum\\'' },\n",
       "  classification: 'on paper, print',\n",
       "  contributorCount: 1,\n",
       "  contributors: \n",
       "   [ { birthYear: 1775,\n",
       "       date: '1775–1851',\n",
       "       displayOrder: 1,\n",
       "       fc: 'Joseph Mallord William Turner',\n",
       "       gender: 'Male',\n",
       "       id: 558,\n",
       "       mda: 'Turner, Joseph Mallord William',\n",
       "       role: 'artist',\n",
       "       startLetter: 'T' } ],\n",
       "  creditLine: 'Presented by A. Acland Allen through the Art Fund 1925',\n",
       "  dateRange: { endYear: 1812, startYear: 1812, text: '1812' },\n",
       "  dateText: '1812',\n",
       "  depth: '',\n",
       "  dimensions: 'image: 178 x 261 mm',\n",
       "  foreignTitle: null,\n",
       "  groupTitle: 'Etchings and Engravings for the \\'Liber Studiorum\\'',\n",
       "  height: '261',\n",
       "  id: 14709,\n",
       "  inscription: null,\n",
       "  medium: 'Etching and mezzotint on paper',\n",
       "  movementCount: 0,\n",
       "  subjectCount: 14,\n",
       "  subjects: \n",
       "   { children: [ [Object], [Object], [Object], [Object], [Object], [Object] ],\n",
       "     id: 1,\n",
       "     name: 'subject' },\n",
       "  thumbnailCopyright: null,\n",
       "  thumbnailUrl: 'http://www.tate.org.uk/art/images/work/A/A01/A01009_8.jpg',\n",
       "  title: 'Chain of Alps from Grenoble to Chamberi, engraved by William Say',\n",
       "  units: 'mm',\n",
       "  url: 'http://www.tate.org.uk/art/artworks/turner-chain-of-alps-from-grenoble-to-chamberi-engraved-by-william-say-a01009',\n",
       "  width: '178' }"
      ]
     },
     "execution_count": 12,
     "metadata": {},
     "output_type": "execute_result"
    }
   ],
   "source": [
    "turner[100]"
   ]
  },
  {
   "cell_type": "markdown",
   "metadata": {},
   "source": [
    "For ease of use, save the turner stuff to a new collection 'turnerColl'\n",
    "pipline should be `[{$match: {all_artists: \"Joseph Mallord William Turner\"}}, {$out: \"turnerColl\"}]` but not sure why\n",
    "it doesn't seem to work here..."
   ]
  },
  {
   "cell_type": "code",
   "execution_count": 25,
   "metadata": {
    "collapsed": false
   },
   "outputs": [
    {
     "data": {
      "text/plain": [
       "undefined"
      ]
     },
     "execution_count": 25,
     "metadata": {},
     "output_type": "execute_result"
    }
   ],
   "source": [
    "var fs = require('fs');\n",
    "var tWritStream = fs.createWriteStream('turnerAll.json');"
   ]
  },
  {
   "cell_type": "code",
   "execution_count": 15,
   "metadata": {
    "collapsed": false
   },
   "outputs": [
    {
     "data": {
      "text/plain": [
       "undefined"
      ]
     },
     "execution_count": 15,
     "metadata": {},
     "output_type": "execute_result"
    }
   ],
   "source": [
    "var turnerColl = db.collection('turnerColl');"
   ]
  },
  {
   "cell_type": "markdown",
   "metadata": {},
   "source": [
    "do a projection on the data and limit some fields..."
   ]
  },
  {
   "cell_type": "code",
   "execution_count": 61,
   "metadata": {
    "collapsed": false
   },
   "outputs": [
    {
     "data": {
      "text/plain": [
       "Promise {\n",
       "  _d: \n",
       "   { p: [Circular],\n",
       "     c: [],\n",
       "     a: undefined,\n",
       "     s: 0,\n",
       "     d: false,\n",
       "     v: undefined,\n",
       "     h: false,\n",
       "     n: false } }"
      ]
     },
     "execution_count": 61,
     "metadata": {},
     "output_type": "execute_result"
    },
    {
     "name": "stdout",
     "output_type": "stream",
     "text": [
      "done\n",
      "{ classification: 'painting',\n",
      "  dateRange: { startYear: 1837 },\n",
      "  height: '1111',\n",
      "  medium: 'Oil paint on canvas',\n",
      "  subjectCount: 10,\n",
      "  subjects: \n",
      "   { children: [ [Object], [Object], [Object], [Object] ],\n",
      "     id: 1,\n",
      "     name: 'subject' },\n",
      "  thumbnailUrl: 'http://www.tate.org.uk/art/images/work/A/A00/A00909_8.jpg',\n",
      "  title: 'The Death of Actaeon, with a Distant View of Montjovet, Val d’Aosta',\n",
      "  units: 'mm',\n",
      "  url: 'http://www.tate.org.uk/art/artworks/turner-the-death-of-actaeon-with-a-distant-view-of-montjovet-val-daosta-a00909',\n",
      "  width: '1492' }\n"
     ]
    }
   ],
   "source": [
    "var turnerSelected;\n",
    "turnerColl.find({}, {\n",
    "    \"_id\": 0,\n",
    "    \"classification\": 1, \"dateRange.startYear\": 1, \"height\": 1, \"width\": 1,\n",
    "    \"medium\":1,\"thumbnailUrl\":1 ,\n",
    "    \"subjectCount\": 1, \"subjects\": 1,\n",
    "    \"title\": 1,\"units\":1, \"url\":1}).toArray()\n",
    "    .then(docs => { \n",
    "        turnerSelected = docs;\n",
    "    })\n",
    "    .then(() => {\n",
    "        console.log('done');\n",
    "    console.log(turnerSelected[0]);\n",
    "});"
   ]
  },
  {
   "cell_type": "code",
   "execution_count": 26,
   "metadata": {
    "collapsed": false
   },
   "outputs": [
    {
     "data": {
      "text/plain": [
       "WriteStream {\n",
       "  _writableState: \n",
       "   WritableState {\n",
       "     objectMode: false,\n",
       "     highWaterMark: 16384,\n",
       "     needDrain: false,\n",
       "     ending: false,\n",
       "     ended: false,\n",
       "     finished: false,\n",
       "     decodeStrings: true,\n",
       "     defaultEncoding: 'utf8',\n",
       "     length: 0,\n",
       "     writing: false,\n",
       "     corked: 0,\n",
       "     sync: true,\n",
       "     bufferProcessing: false,\n",
       "     onwrite: [Function],\n",
       "     writecb: null,\n",
       "     writelen: 0,\n",
       "     bufferedRequest: null,\n",
       "     lastBufferedRequest: null,\n",
       "     pendingcb: 0,\n",
       "     prefinished: false,\n",
       "     errorEmitted: false },\n",
       "  writable: true,\n",
       "  domain: null,\n",
       "  _events: { finish: [ [Object], [Function] ] },\n",
       "  _eventsCount: 1,\n",
       "  _maxListeners: undefined,\n",
       "  path: 'turnerAll.json',\n",
       "  fd: 33,\n",
       "  flags: 'w',\n",
       "  mode: 438,\n",
       "  start: undefined,\n",
       "  pos: undefined,\n",
       "  bytesWritten: 0 }"
      ]
     },
     "execution_count": 26,
     "metadata": {},
     "output_type": "execute_result"
    }
   ],
   "source": [
    "tWritStream.on('finish', () => {console.log('done')});"
   ]
  },
  {
   "cell_type": "markdown",
   "metadata": {},
   "source": [
    "And now let's try to pipe the db query to output json"
   ]
  },
  {
   "cell_type": "code",
   "execution_count": 27,
   "metadata": {
    "collapsed": false
   },
   "outputs": [
    {
     "data": {
      "text/plain": [
       "WriteStream {\n",
       "  _writableState: \n",
       "   WritableState {\n",
       "     objectMode: false,\n",
       "     highWaterMark: 16384,\n",
       "     needDrain: false,\n",
       "     ending: false,\n",
       "     ended: false,\n",
       "     finished: false,\n",
       "     decodeStrings: true,\n",
       "     defaultEncoding: 'utf8',\n",
       "     length: 0,\n",
       "     writing: false,\n",
       "     corked: 0,\n",
       "     sync: true,\n",
       "     bufferProcessing: false,\n",
       "     onwrite: [Function],\n",
       "     writecb: null,\n",
       "     writelen: 0,\n",
       "     bufferedRequest: null,\n",
       "     lastBufferedRequest: null,\n",
       "     pendingcb: 0,\n",
       "     prefinished: false,\n",
       "     errorEmitted: false },\n",
       "  writable: true,\n",
       "  domain: null,\n",
       "  _events: \n",
       "   { finish: [ [Object], [Function] ],\n",
       "     drain: [Function: ondrain],\n",
       "     error: [Function: onerror],\n",
       "     close: [Function: cleanup] },\n",
       "  _eventsCount: 4,\n",
       "  _maxListeners: undefined,\n",
       "  path: 'turnerAll.json',\n",
       "  fd: 33,\n",
       "  flags: 'w',\n",
       "  mode: 438,\n",
       "  start: undefined,\n",
       "  pos: undefined,\n",
       "  bytesWritten: 0 }"
      ]
     },
     "execution_count": 27,
     "metadata": {},
     "output_type": "execute_result"
    },
    {
     "name": "stdout",
     "output_type": "stream",
     "text": [
      "done\n"
     ]
    }
   ],
   "source": [
    "var JSONStream = require('JSONStream');\n",
    "turnerColl.find({}, {\n",
    "    \"_id\": 0,\n",
    "    \"classification\": 1, \"dateRange.startYear\": 1, \"height\": 1, \"width\": 1,\n",
    "    \"medium\":1,\"thumbnailUrl\":1 ,\n",
    "    \"subjectCount\": 1, \"subjects\": 1,\n",
    "    \"title\": 1,\"units\":1, \"url\":1}).pipe(JSONStream.stringify()).pipe(tWritStream);"
   ]
  },
  {
   "cell_type": "markdown",
   "metadata": {},
   "source": [
    "Let's see whether the Turner works has any unusal classifications:"
   ]
  },
  {
   "cell_type": "code",
   "execution_count": 30,
   "metadata": {
    "collapsed": false
   },
   "outputs": [
    {
     "data": {
      "text/plain": [
       "Promise {\n",
       "  _d: \n",
       "   { p: [Circular],\n",
       "     c: [],\n",
       "     a: undefined,\n",
       "     s: 0,\n",
       "     d: false,\n",
       "     v: undefined,\n",
       "     h: false,\n",
       "     n: false } }"
      ]
     },
     "execution_count": 30,
     "metadata": {},
     "output_type": "execute_result"
    },
    {
     "name": "stdout",
     "output_type": "stream",
     "text": [
      "[ 'painting',\n",
      "  'on paper, unique',\n",
      "  'on paper, print',\n",
      "  'block for printing' ]\n"
     ]
    }
   ],
   "source": [
    "turnerColl.distinct('classification').then((data) => {console.log(data)})"
   ]
  },
  {
   "cell_type": "markdown",
   "metadata": {},
   "source": [
    "I guess not..."
   ]
  },
  {
   "cell_type": "code",
   "execution_count": 33,
   "metadata": {
    "collapsed": false
   },
   "outputs": [
    {
     "data": {
      "text/plain": [
       "Promise {\n",
       "  _d: \n",
       "   { p: [Circular],\n",
       "     c: [],\n",
       "     a: undefined,\n",
       "     s: 0,\n",
       "     d: false,\n",
       "     v: undefined,\n",
       "     h: false,\n",
       "     n: false } }"
      ]
     },
     "execution_count": 33,
     "metadata": {},
     "output_type": "execute_result"
    },
    {
     "name": "stdout",
     "output_type": "stream",
     "text": [
      "[ 'Oil paint on canvas',\n",
      "  'Mixed media and graphite on paper',\n",
      "  'Etching and engraving on paper',\n",
      "  'Etching on paper',\n",
      "  'Etching and mezzotint on paper',\n",
      "  'Etching, mezzotint and drypoint on paper',\n",
      "  null,\n",
      "  'Etching, aquatint and mezzotint on paper',\n",
      "  'Etching, drypoint and mezzotint on paper',\n",
      "  'Etching and engraving on paper\\r\\n\\r\\n',\n",
      "  'Etching and mezzotint engraving on paper',\n",
      "  'Print on paper',\n",
      "  'Etching and aquatint on paper',\n",
      "  'Etching, mezzotint and aquatint on paper',\n",
      "  'Mezzotint on paper',\n",
      "  'Photograph on paper',\n",
      "  'Mezzotint engraving on paper',\n",
      "  'Pen and ink and watercolour on paper',\n",
      "  'Gouache, graphite and watercolour on paper',\n",
      "  'Graphite and pen on paper',\n",
      "  'Graphite and watercolour on paper',\n",
      "  'Graphite on paper',\n",
      "  'Watercolour on paper',\n",
      "  'Ink wash, pen and ink, graphite and watercolour on paper',\n",
      "  'Graphite, watercolour and pen and ink on paper',\n",
      "  'Pen and ink on paper',\n",
      "  'Pen and ink and graphite on paper',\n",
      "  'Chalk, gouache and watercolour on paper',\n",
      "  'Chalk and gouache on paper',\n",
      "  'Chalk on paper',\n",
      "  'Chalk and watercolour on paper',\n",
      "  'Chalk, gouache and graphite on paper',\n",
      "  'Graphite and ink on paper',\n",
      "  'Graphite and pen and ink on paper',\n",
      "  'Pen and watercolour and pen and ink on paper',\n",
      "  'Pen and graphite on paper',\n",
      "  'Pen and ink, graphite and watercolour on paper',\n",
      "  'Gouache and watercolour on paper',\n",
      "  'Chalk, graphite and watercolour on paper',\n",
      "  'Watercolour and gouache on paper',\n",
      "  'Graphite, watercolour and gouache on paper',\n",
      "  'Ink wash, graphite and watercolour on paper',\n",
      "  'Oil on paper',\n",
      "  'Graphite, brush and ink, watercolour and gouache on paper',\n",
      "  'Crayon, pastel and watercolour on paper',\n",
      "  'Watercolour, gouache and watercolour wash on paper',\n",
      "  'Graphite and gouache on paper',\n",
      "  'Watercolour and chalk on paper',\n",
      "  'Charcoal on paper',\n",
      "  'Gouache, pen and ink, graphite and watercolour on paper',\n",
      "  'Chalk, gouache, graphite and watercolour on paper',\n",
      "  'Chalk and graphite on paper',\n",
      "  'Gouache on paper',\n",
      "  'Gouache and wash on paper',\n",
      "  'Gouache and graphite on paper',\n",
      "  'Chalk, crayon and graphite on paper',\n",
      "  'Chalk, crayon, graphite and watercolour on paper',\n",
      "  'Graphite, chalk and tobacco wash on paper',\n",
      "  'Chalk, pastel and watercolour on paper',\n",
      "  'Ink and graphite on paper',\n",
      "  'Pen and ink and chalk on paper',\n",
      "  'Ink wash and pen and ink on paper',\n",
      "  'Graphite and chalk on paper',\n",
      "  'Graphite and chalk on paper on paper',\n",
      "  'Graphite, chalk and watercolour on paper',\n",
      "  'Graphite and wash on paper',\n",
      "  'Graphite, chalk and gouache on paper',\n",
      "  'Graphite and chalk on ppaer',\n",
      "  'Graphite, chalk, watercolour and gouache on paper',\n",
      "  'Graphite, chalk, watercolour, and gouache on paper',\n",
      "  'Graphite and watercolour wash on paper',\n",
      "  'Crayon and graphite on paper',\n",
      "  'Crayon and watercolour on paper',\n",
      "  'Graphite, gouache and watercolour on paper',\n",
      "  'Chalk and charcoal on paper',\n",
      "  'Oil, watercolour and ink on paper',\n",
      "  'Oil and watercolour on paper',\n",
      "  'Oil and graphite on paper',\n",
      "  'Ink on paper',\n",
      "  'Oil and gum arabic on paper',\n",
      "  'Watercolour on paper laid on paper',\n",
      "  'Etching, graphite and watercolour on paper',\n",
      "  'Etching and watercolour on paper',\n",
      "  'Graphite, pen and ink, and watercolour on paper',\n",
      "  'Etching, watercolour and graphite on paper',\n",
      "  'Gouache, oil, pen and ink and watercolour on paper',\n",
      "  'Chalk and pen and ink on paper',\n",
      "  'Pen and ink, graphite and chalk on paper',\n",
      "  'Engraving on paper',\n",
      "  'Graphite and waercolour on paper',\n",
      "  'Oil and chalk on paper',\n",
      "  'Watercolour and graphite on paper',\n",
      "  'Graphite, watercolour and watercolour wash on paper',\n",
      "  'Watercolour, bodycolour and graphite on paper',\n",
      "  'Crayon, graphite and watercolour on paper',\n",
      "  'Gouache, pen, graphite and watercolour on paper',\n",
      "  'Gouache, pen and ink and watercolour on paper',\n",
      "  'Watercolour and tracing on paper',\n",
      "  'Tracing on paper',\n",
      "  'Graphite, watercolour and tracing on paper',\n",
      "  'Chalk, pen and ink and watercolour on paper',\n",
      "  'Graphite, pen and ink and watercolour on paper',\n",
      "  'Graphite, watercolour and chalk on paper',\n",
      "  'Wax and watercolour on paper',\n",
      "  'Ink wash on paper',\n",
      "  'Graphite, watercolour, gouache and chalk on paper',\n",
      "  'Graphite, watercolour, gouache, and pen and watercolour on paper',\n",
      "  'Watercolour, gouache and pen and watercolour on paper',\n",
      "  'Watercolour, gouache and pen and ink on paper',\n",
      "  'Bodycolour on paper',\n",
      "  'Gouache, pen and ink and graphite on paper',\n",
      "  'Watercolour and bodycolour on paper',\n",
      "  'Gouache and pen and ink on paper',\n",
      "  'Chalk, pen and ink and graphite on paper',\n",
      "  'Bodycolour and watercolour on paper',\n",
      "  'Watercolour, bodycolour and pen and ink on paper',\n",
      "  'Ink, watercolour and bodycolour on paper',\n",
      "  'Crayon and gouache on paper',\n",
      "  'Gouache, watercolour and graphite on paper',\n",
      "  'Pen and ink, watercolour and gouache on paper',\n",
      "  'Bodycolour and pen and ink on paper',\n",
      "  'Chalk, crayon and watercolour on paper',\n",
      "  'Gouache, pen and watercolour on paper',\n",
      "  'Gouache and pen and watercolour on paper',\n",
      "  'Watercolour and gouache and pen and watercolour on paper',\n",
      "  'Graphite, watercolour, gouache and pen and watercolour on paper',\n",
      "  'Graphite, pen and ink, watercolour and gouache on paper',\n",
      "  'Graphite, pen and ink and gouache on paper',\n",
      "  'Chalk, ink wash and pen and ink on paper',\n",
      "  'Pen and ink and gouache on paper',\n",
      "  'Pen and ink, graphite and gouache on paper',\n",
      "  'Watercolour, gouache and graphite on paper',\n",
      "  'Watercolour, graphite and gouache on paper',\n",
      "  'Graphite, watercolour and bodycolour on paper',\n",
      "  'Watercolour, graphite and pen and ink on paper',\n",
      "  'Graphite, watercolour, gouache and pen and ink on paper',\n",
      "  'Watercolour and pen on paper',\n",
      "  'Graphite and crayon on paper',\n",
      "  'Crayon on paper',\n",
      "  'Watercolour, chalk and graphite on paper',\n",
      "  'Watercolour, graphite and ink on paper',\n",
      "  'Graphite, watercolour and pen on paper',\n",
      "  'Watercolour, gouache and pen on paper',\n",
      "  'Graphite, watercolour and crayon on paper',\n",
      "  'Graphite, watercolour, gouache and pen on paper',\n",
      "  'Watercolour and pen and ink on paper',\n",
      "  'Graphite, watercolour, bodycolour and pen and ink on paper',\n",
      "  'Gouache, ink wash and watercolour on paper',\n",
      "  'Watercolour, bodycolour and chalk on paper',\n",
      "  'Chalk, gouache, ink wash and watercolour on paper',\n",
      "  'Chalk and ink wash on paper',\n",
      "  'Engraving and graphite on paper',\n",
      "  'Ink wash and graphite on paper',\n",
      "  'Watercolour and crayon on paper',\n",
      "  'Graphite, crayon and watercolour on paper',\n",
      "  'Graphite, watercolour, gouache and ink on paper',\n",
      "  'Chalk, crayon, gouache and watercolour on paper',\n",
      "  'Oil on board',\n",
      "  'Line engraving and graphite on paper',\n",
      "  'Wax, pen and ink and graphite on paper',\n",
      "  'Watercolour offset on paper',\n",
      "  'Marbled cover on paper',\n",
      "  'Engraving and watercolour on paper',\n",
      "  'Pen and ink offset on paper',\n",
      "  'Chalk offset on paper',\n",
      "  'Chalk and watercolour offset on paper',\n",
      "  'Offset on paper',\n",
      "  'Ink on parchment',\n",
      "  'Ink on leather',\n",
      "  'On paper',\n",
      "  'Graphite on paper laid on board',\n",
      "  'Oil paint on mahogany',\n",
      "  'Oil paint on wood',\n",
      "  'Oil paint on board mounted on canvas',\n",
      "  'Oil paint on oak',\n",
      "  'Oil paint on pine',\n",
      "  'Oil paint on mahogany veneer',\n",
      "  'Oil paint on mahogany veneer mounted onto board',\n",
      "  'Oil paint on mahogany veneer mounted onto cedar panel',\n",
      "  'Oil paint on mahogany veneer mounted onto wooden panel',\n",
      "  'Copper plate',\n",
      "  'Graphite, watercolour and ink on paper',\n",
      "  'Oil paint on millboard',\n",
      "  'Oil paint on muslin mounted on millboard',\n",
      "  'Oil paint on canvas mounted on board',\n",
      "  'Oil paint on board',\n",
      "  'Oil paint on muslin mounted on board' ] 187\n"
     ]
    }
   ],
   "source": [
    "turnerColl.distinct('medium').then((data) => {console.log(data, data.length)})"
   ]
  },
  {
   "cell_type": "markdown",
   "metadata": {},
   "source": [
    "On the other hand, 'medium' returns 187 distinct groups, but tbh some of them can probably be combined, e.g. Oil paint on x..."
   ]
  },
  {
   "cell_type": "code",
   "execution_count": 43,
   "metadata": {
    "collapsed": false
   },
   "outputs": [
    {
     "name": "stdout",
     "output_type": "stream",
     "text": [
      "[]\n"
     ]
    },
    {
     "data": {
      "text/plain": [
       "Promise {\n",
       "  _d: \n",
       "   { p: [Circular],\n",
       "     c: [],\n",
       "     a: undefined,\n",
       "     s: 0,\n",
       "     d: false,\n",
       "     v: undefined,\n",
       "     h: false,\n",
       "     n: false } }"
      ]
     },
     "execution_count": 43,
     "metadata": {},
     "output_type": "execute_result"
    },
    {
     "name": "stdout",
     "output_type": "stream",
     "text": [
      "Oil paint on canvas\n",
      "done [ 'Oil paint',\n",
      "  'Mixed media and graphite',\n",
      "  'Etching and engraving',\n",
      "  'Etching',\n",
      "  'Etching and mezzotint',\n",
      "  'Etching, mezzotint and drypoint',\n",
      "  'Etching, aquatint and mezzotint',\n",
      "  'Etching, drypoint and mezzotint',\n",
      "  'Etching and mezzotint engraving',\n",
      "  'Print',\n",
      "  'Etching and aquatint',\n",
      "  'Etching, mezzotint and aquatint',\n",
      "  'Mezzotint',\n",
      "  'Photograph',\n",
      "  'Mezzotint engraving',\n",
      "  'Pen and ink and watercolour',\n",
      "  'Gouache, graphite and watercolour',\n",
      "  'Graphite and pen',\n",
      "  'Graphite and watercolour',\n",
      "  'Graphite',\n",
      "  'Watercolour',\n",
      "  'Ink wash, pen and ink, graphite and watercolour',\n",
      "  'Graphite, watercolour and pen and ink',\n",
      "  'Pen and ink',\n",
      "  'Pen and ink and graphite',\n",
      "  'Chalk, gouache and watercolour',\n",
      "  'Chalk and gouache',\n",
      "  'Chalk',\n",
      "  'Chalk and watercolour',\n",
      "  'Chalk, gouache and graphite',\n",
      "  'Graphite and ink',\n",
      "  'Graphite and pen and ink',\n",
      "  'Pen and watercolour and pen and ink',\n",
      "  'Pen and graphite',\n",
      "  'Pen and ink, graphite and watercolour',\n",
      "  'Gouache and watercolour',\n",
      "  'Chalk, graphite and watercolour',\n",
      "  'Watercolour and gouache',\n",
      "  'Graphite, watercolour and gouache',\n",
      "  'Ink wash, graphite and watercolour',\n",
      "  'Oil',\n",
      "  'Graphite, brush and ink, watercolour and gouache',\n",
      "  'Crayon, pastel and watercolour',\n",
      "  'Watercolour, gouache and watercolour wash',\n",
      "  'Graphite and gouache',\n",
      "  'Watercolour and chalk',\n",
      "  'Charcoal',\n",
      "  'Gouache, pen and ink, graphite and watercolour',\n",
      "  'Chalk, gouache, graphite and watercolour',\n",
      "  'Chalk and graphite',\n",
      "  'Gouache',\n",
      "  'Gouache and wash',\n",
      "  'Gouache and graphite',\n",
      "  'Chalk, crayon and graphite',\n",
      "  'Chalk, crayon, graphite and watercolour',\n",
      "  'Graphite, chalk and tobacco wash',\n",
      "  'Chalk, pastel and watercolour',\n",
      "  'Ink and graphite',\n",
      "  'Pen and ink and chalk',\n",
      "  'Ink wash and pen and ink',\n",
      "  'Graphite and chalk',\n",
      "  'Graphite, chalk and watercolour',\n",
      "  'Graphite and wash',\n",
      "  'Graphite, chalk and gouache',\n",
      "  'Graphite, chalk, watercolour and gouache',\n",
      "  'Graphite, chalk, watercolour, and gouache',\n",
      "  'Graphite and watercolour wash',\n",
      "  'Crayon and graphite',\n",
      "  'Crayon and watercolour',\n",
      "  'Graphite, gouache and watercolour',\n",
      "  'Chalk and charcoal',\n",
      "  'Oil, watercolour and ink',\n",
      "  'Oil and watercolour',\n",
      "  'Oil and graphite',\n",
      "  'Ink',\n",
      "  'Oil and gum arabic',\n",
      "  'Etching, graphite and watercolour',\n",
      "  'Etching and watercolour',\n",
      "  'Graphite, pen and ink, and watercolour',\n",
      "  'Etching, watercolour and graphite',\n",
      "  'Gouache, oil, pen and ink and watercolour',\n",
      "  'Chalk and pen and ink',\n",
      "  'Pen and ink, graphite and chalk',\n",
      "  'Engraving',\n",
      "  'Graphite and waercolour',\n",
      "  'Oil and chalk',\n",
      "  'Watercolour and graphite',\n",
      "  'Graphite, watercolour and watercolour wash',\n",
      "  'Watercolour, bodycolour and graphite',\n",
      "  'Crayon, graphite and watercolour',\n",
      "  'Gouache, pen, graphite and watercolour',\n",
      "  'Gouache, pen and ink and watercolour',\n",
      "  'Watercolour and tracing',\n",
      "  'Tracing',\n",
      "  'Graphite, watercolour and tracing',\n",
      "  'Chalk, pen and ink and watercolour',\n",
      "  'Graphite, pen and ink and watercolour',\n",
      "  'Graphite, watercolour and chalk',\n",
      "  'Wax and watercolour',\n",
      "  'Ink wash',\n",
      "  'Graphite, watercolour, gouache and chalk',\n",
      "  'Graphite, watercolour, gouache, and pen and watercolour',\n",
      "  'Watercolour, gouache and pen and watercolour',\n",
      "  'Watercolour, gouache and pen and ink',\n",
      "  'Bodycolour',\n",
      "  'Gouache, pen and ink and graphite',\n",
      "  'Watercolour and bodycolour',\n",
      "  'Gouache and pen and ink',\n",
      "  'Chalk, pen and ink and graphite',\n",
      "  'Bodycolour and watercolour',\n",
      "  'Watercolour, bodycolour and pen and ink',\n",
      "  'Ink, watercolour and bodycolour',\n",
      "  'Crayon and gouache',\n",
      "  'Gouache, watercolour and graphite',\n",
      "  'Pen and ink, watercolour and gouache',\n",
      "  'Bodycolour and pen and ink',\n",
      "  'Chalk, crayon and watercolour',\n",
      "  'Gouache, pen and watercolour',\n",
      "  'Gouache and pen and watercolour',\n",
      "  'Watercolour and gouache and pen and watercolour',\n",
      "  'Graphite, watercolour, gouache and pen and watercolour',\n",
      "  'Graphite, pen and ink, watercolour and gouache',\n",
      "  'Graphite, pen and ink and gouache',\n",
      "  'Chalk, ink wash and pen and ink',\n",
      "  'Pen and ink and gouache',\n",
      "  'Pen and ink, graphite and gouache',\n",
      "  'Watercolour, gouache and graphite',\n",
      "  'Watercolour, graphite and gouache',\n",
      "  'Graphite, watercolour and bodycolour',\n",
      "  'Watercolour, graphite and pen and ink',\n",
      "  'Graphite, watercolour, gouache and pen and ink',\n",
      "  'Watercolour and pen',\n",
      "  'Graphite and crayon',\n",
      "  'Crayon',\n",
      "  'Watercolour, chalk and graphite',\n",
      "  'Watercolour, graphite and ink',\n",
      "  'Graphite, watercolour and pen',\n",
      "  'Watercolour, gouache and pen',\n",
      "  'Graphite, watercolour and crayon',\n",
      "  'Graphite, watercolour, gouache and pen',\n",
      "  'Watercolour and pen and ink',\n",
      "  'Graphite, watercolour, bodycolour and pen and ink',\n",
      "  'Gouache, ink wash and watercolour',\n",
      "  'Watercolour, bodycolour and chalk',\n",
      "  'Chalk, gouache, ink wash and watercolour',\n",
      "  'Chalk and ink wash',\n",
      "  'Engraving and graphite',\n",
      "  'Ink wash and graphite',\n",
      "  'Watercolour and crayon',\n",
      "  'Graphite, crayon and watercolour',\n",
      "  'Graphite, watercolour, gouache and ink',\n",
      "  'Chalk, crayon, gouache and watercolour',\n",
      "  'Line engraving and graphite',\n",
      "  'Wax, pen and ink and graphite',\n",
      "  'Watercolour offset',\n",
      "  'Marbled cover',\n",
      "  'Engraving and watercolour',\n",
      "  'Pen and ink offset',\n",
      "  'Chalk offset',\n",
      "  'Chalk and watercolour offset',\n",
      "  'Offset',\n",
      "  'On paper',\n",
      "  'Copper plate',\n",
      "  'Graphite, watercolour and ink' ] 164\n"
     ]
    }
   ],
   "source": [
    "var categories = [];\n",
    "console.log(categories)\n",
    "turnerColl.distinct('medium').then((docs) => {\n",
    "    console.log(docs[0]);\n",
    "    docs.forEach(doc => {\n",
    "        if (doc == null) {return}\n",
    "        var type = doc.split(' on')[0];\n",
    "        if (categories.indexOf(type) < 0) {\n",
    "            categories.push(type);\n",
    "        }\n",
    "    });\n",
    "    console.log('done',categories, categories.length)\n",
    "})"
   ]
  },
  {
   "cell_type": "markdown",
   "metadata": {},
   "source": [
    "A bit better but still lots of groups... Let's try with just the first word (not the most intelligent, I know)"
   ]
  },
  {
   "cell_type": "code",
   "execution_count": 45,
   "metadata": {
    "collapsed": false
   },
   "outputs": [
    {
     "data": {
      "text/plain": [
       "Promise {\n",
       "  _d: \n",
       "   { p: [Circular],\n",
       "     c: [],\n",
       "     a: undefined,\n",
       "     s: 0,\n",
       "     d: false,\n",
       "     v: undefined,\n",
       "     h: false,\n",
       "     n: false } }"
      ]
     },
     "execution_count": 45,
     "metadata": {},
     "output_type": "execute_result"
    },
    {
     "name": "stdout",
     "output_type": "stream",
     "text": [
      "Oil paint on canvas\n",
      "done [ 'Oil',\n",
      "  'Mixed',\n",
      "  'Etching',\n",
      "  'Print',\n",
      "  'Mezzotint',\n",
      "  'Photograph',\n",
      "  'Pen',\n",
      "  'Gouache',\n",
      "  'Graphite',\n",
      "  'Watercolour',\n",
      "  'Ink',\n",
      "  'Chalk',\n",
      "  'Crayon',\n",
      "  'Charcoal',\n",
      "  'Engraving',\n",
      "  'Tracing',\n",
      "  'Wax',\n",
      "  'Bodycolour',\n",
      "  'Line',\n",
      "  'Marbled',\n",
      "  'Offset',\n",
      "  'On',\n",
      "  'Copper' ] 23\n"
     ]
    }
   ],
   "source": [
    "var categories2 = [];\n",
    "turnerColl.distinct('medium').then((docs) => {\n",
    "    console.log(docs[0]);\n",
    "    docs.forEach(doc => {\n",
    "        if (doc == null) {return}\n",
    "        var type = doc.split(' ')[0];\n",
    "        //also remove e.g. ',' after words to make sure e.g. 'chalk' and 'chalk,'\n",
    "        //being classified as distinct\n",
    "        type = type.replace(/[^\\w\\s]|_/g, \"\");\n",
    "        if (categories2.indexOf(type) < 0) {\n",
    "            categories2.push(type);\n",
    "        }\n",
    "    });\n",
    "    console.log('done',categories2, categories2.length)\n",
    "})"
   ]
  },
  {
   "cell_type": "markdown",
   "metadata": {},
   "source": [
    "On the other hand, it would be useful to get the first level of the 'subjects' field, and to turn the 'dateRange' into just the startYear..."
   ]
  },
  {
   "cell_type": "code",
   "execution_count": 64,
   "metadata": {
    "collapsed": false
   },
   "outputs": [
    {
     "name": "stdout",
     "output_type": "stream",
     "text": [
      "{ classification: 'on paper, print',\n",
      "  dateRange: { startYear: 1807 },\n",
      "  height: '259',\n",
      "  medium: 'Etching and mezzotint on paper',\n",
      "  subjectCount: 15,\n",
      "  subjects: \n",
      "   { children: \n",
      "      [ [Object],\n",
      "        [Object],\n",
      "        [Object],\n",
      "        [Object],\n",
      "        [Object],\n",
      "        [Object],\n",
      "        [Object],\n",
      "        [Object] ],\n",
      "     id: 1,\n",
      "     name: 'subject' },\n",
      "  thumbnailUrl: 'http://www.tate.org.uk/art/images/work/A/A00/A00918_8.jpg',\n",
      "  title: 'Scene on the French Coast, engraved by Charles Turner',\n",
      "  units: 'mm',\n",
      "  url: 'http://www.tate.org.uk/art/artworks/turner-scene-on-the-french-coast-engraved-by-charles-turner-a00918',\n",
      "  width: '183',\n",
      "  subjectArr: \n",
      "   [ 'places',\n",
      "     'objects',\n",
      "     'nature',\n",
      "     'society',\n",
      "     'people',\n",
      "     'architecture',\n",
      "     'work and occupations',\n",
      "     'leisure and pastimes' ],\n",
      "  year: 1807 }\n"
     ]
    },
    {
     "data": {
      "text/plain": [
       "undefined"
      ]
     },
     "execution_count": 64,
     "metadata": {},
     "output_type": "execute_result"
    }
   ],
   "source": [
    "turnerSelected.forEach(item => {\n",
    "    var subjects = [];\n",
    "    if (!item.subjects || !item.subjects.children){\n",
    "        item.subjectArr = [];\n",
    "    }else {\n",
    "        item.subjects.children.forEach(d => {\n",
    "            subjects.push(d.name)\n",
    "        });\n",
    "        item.subjectArr = subjects;\n",
    "    }\n",
    "    \n",
    "    if(!item.dateRange){\n",
    "        item.year = null;\n",
    "    } else {\n",
    "        item.year = item.dateRange.startYear;\n",
    "    }\n",
    "    \n",
    "});\n",
    "console.log(turnerSelected[10])"
   ]
  },
  {
   "cell_type": "code",
   "execution_count": 65,
   "metadata": {
    "collapsed": false
   },
   "outputs": [
    {
     "data": {
      "text/plain": [
       "{ classification: 'on paper, print',\n",
       "  dateRange: { startYear: 1812 },\n",
       "  height: '265',\n",
       "  medium: 'Etching and mezzotint on paper',\n",
       "  subjectCount: 17,\n",
       "  subjects: \n",
       "   { children: [ [Object], [Object], [Object], [Object], [Object] ],\n",
       "     id: 1,\n",
       "     name: 'subject' },\n",
       "  thumbnailUrl: 'http://www.tate.org.uk/art/images/work/A/A01/A01007_8.jpg',\n",
       "  title: 'River Wye, engraved by W. Annis',\n",
       "  units: 'mm',\n",
       "  url: 'http://www.tate.org.uk/art/artworks/turner-river-wye-engraved-by-w-annis-a01007',\n",
       "  width: '184',\n",
       "  subjectArr: \n",
       "   [ 'places',\n",
       "     'nature',\n",
       "     'leisure and pastimes',\n",
       "     'architecture',\n",
       "     'people' ],\n",
       "  year: 1812 }"
      ]
     },
     "execution_count": 65,
     "metadata": {},
     "output_type": "execute_result"
    }
   ],
   "source": [
    "turnerSelected[100]"
   ]
  },
  {
   "cell_type": "code",
   "execution_count": null,
   "metadata": {
    "collapsed": false
   },
   "outputs": [],
   "source": []
  },
  {
   "cell_type": "code",
   "execution_count": 59,
   "metadata": {
    "collapsed": false
   },
   "outputs": [
    {
     "data": {
      "text/plain": [
       "{ classification: 'on paper, print',\n",
       "  dateRange: { startYear: 1812 },\n",
       "  height: '255',\n",
       "  medium: 'Etching, aquatint and mezzotint on paper',\n",
       "  subjectCount: 12,\n",
       "  subjects: [],\n",
       "  thumbnailUrl: 'http://www.tate.org.uk/art/images/work/A/A00/A00997_8.jpg',\n",
       "  title: 'Bridge and Goats, engraved by F.C. Lewis',\n",
       "  units: 'mm',\n",
       "  url: 'http://www.tate.org.uk/art/artworks/turner-bridge-and-goats-engraved-by-fc-lewis-a00997',\n",
       "  width: '182',\n",
       "  year: 1812 }"
      ]
     },
     "execution_count": 59,
     "metadata": {},
     "output_type": "execute_result"
    }
   ],
   "source": [
    "turnerSelected[90]"
   ]
  },
  {
   "cell_type": "code",
   "execution_count": 60,
   "metadata": {
    "collapsed": false
   },
   "outputs": [
    {
     "data": {
      "text/plain": [
       "{ classification: 'on paper, unique',\n",
       "  dateRange: { startYear: 1796 },\n",
       "  height: '129',\n",
       "  medium: null,\n",
       "  subjectCount: 0,\n",
       "  thumbnailUrl: null,\n",
       "  title: 'Blank',\n",
       "  units: 'mm',\n",
       "  url: 'http://www.tate.org.uk/art/artworks/turner-blank-d00771',\n",
       "  width: '110',\n",
       "  subjects: [],\n",
       "  year: 1796 }"
      ]
     },
     "execution_count": 60,
     "metadata": {},
     "output_type": "execute_result"
    }
   ],
   "source": [
    "turnerSelected[900\n",
    "              ]"
   ]
  },
  {
   "cell_type": "markdown",
   "metadata": {},
   "source": [
    "Now, lets try to pipe the parsing to a json file..."
   ]
  },
  {
   "cell_type": "code",
   "execution_count": 66,
   "metadata": {
    "collapsed": false
   },
   "outputs": [
    {
     "data": {
      "text/plain": [
       "undefined"
      ]
     },
     "execution_count": 66,
     "metadata": {},
     "output_type": "execute_result"
    }
   ],
   "source": [
    "var parser = function(item){\n",
    "    var subjects = [];\n",
    "    if (!item.subjects || !item.subjects.children){\n",
    "        item.subjectArr = [];\n",
    "    }else {\n",
    "        item.subjects.children.forEach(d => {\n",
    "            subjects.push(d.name)\n",
    "        });\n",
    "        item.subjectArr = subjects;\n",
    "    }\n",
    "    \n",
    "    if(!item.dateRange){\n",
    "        item.year = null;\n",
    "    } else {\n",
    "        item.year = item.dateRange.startYear;\n",
    "    }\n",
    "    return item;\n",
    "}"
   ]
  },
  {
   "cell_type": "code",
   "execution_count": null,
   "metadata": {
    "collapsed": true
   },
   "outputs": [],
   "source": []
  }
 ],
 "metadata": {
  "kernelspec": {
   "display_name": "Javascript (Node.js)",
   "language": "javascript",
   "name": "javascript"
  },
  "language_info": {
   "file_extension": ".js",
   "mimetype": "application/javascript",
   "name": "javascript",
   "version": "4.1.1"
  }
 },
 "nbformat": 4,
 "nbformat_minor": 0
}
